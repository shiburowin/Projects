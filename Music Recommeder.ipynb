{
 "cells": [
  {
   "cell_type": "code",
   "execution_count": 1,
   "id": "40ad6cd1",
   "metadata": {},
   "outputs": [],
   "source": [
    "import pandas as pd"
   ]
  },
  {
   "cell_type": "code",
   "execution_count": 2,
   "id": "1a36bce4",
   "metadata": {},
   "outputs": [],
   "source": [
    "df = pd.read_csv(\"F:\\music recommender system\\spotify_millsongdata.csv\")"
   ]
  },
  {
   "cell_type": "code",
   "execution_count": 3,
   "id": "f94cad8e",
   "metadata": {},
   "outputs": [
    {
     "data": {
      "text/html": [
       "<div>\n",
       "<style scoped>\n",
       "    .dataframe tbody tr th:only-of-type {\n",
       "        vertical-align: middle;\n",
       "    }\n",
       "\n",
       "    .dataframe tbody tr th {\n",
       "        vertical-align: top;\n",
       "    }\n",
       "\n",
       "    .dataframe thead th {\n",
       "        text-align: right;\n",
       "    }\n",
       "</style>\n",
       "<table border=\"1\" class=\"dataframe\">\n",
       "  <thead>\n",
       "    <tr style=\"text-align: right;\">\n",
       "      <th></th>\n",
       "      <th>artist</th>\n",
       "      <th>song</th>\n",
       "      <th>link</th>\n",
       "      <th>text</th>\n",
       "    </tr>\n",
       "  </thead>\n",
       "  <tbody>\n",
       "    <tr>\n",
       "      <th>0</th>\n",
       "      <td>ABBA</td>\n",
       "      <td>Ahe's My Kind Of Girl</td>\n",
       "      <td>/a/abba/ahes+my+kind+of+girl_20598417.html</td>\n",
       "      <td>Look at her face, it's a wonderful face  \\r\\nA...</td>\n",
       "    </tr>\n",
       "    <tr>\n",
       "      <th>1</th>\n",
       "      <td>ABBA</td>\n",
       "      <td>Andante, Andante</td>\n",
       "      <td>/a/abba/andante+andante_20002708.html</td>\n",
       "      <td>Take it easy with me, please  \\r\\nTouch me gen...</td>\n",
       "    </tr>\n",
       "    <tr>\n",
       "      <th>2</th>\n",
       "      <td>ABBA</td>\n",
       "      <td>As Good As New</td>\n",
       "      <td>/a/abba/as+good+as+new_20003033.html</td>\n",
       "      <td>I'll never know why I had to go  \\r\\nWhy I had...</td>\n",
       "    </tr>\n",
       "    <tr>\n",
       "      <th>3</th>\n",
       "      <td>ABBA</td>\n",
       "      <td>Bang</td>\n",
       "      <td>/a/abba/bang_20598415.html</td>\n",
       "      <td>Making somebody happy is a question of give an...</td>\n",
       "    </tr>\n",
       "    <tr>\n",
       "      <th>4</th>\n",
       "      <td>ABBA</td>\n",
       "      <td>Bang-A-Boomerang</td>\n",
       "      <td>/a/abba/bang+a+boomerang_20002668.html</td>\n",
       "      <td>Making somebody happy is a question of give an...</td>\n",
       "    </tr>\n",
       "    <tr>\n",
       "      <th>5</th>\n",
       "      <td>ABBA</td>\n",
       "      <td>Burning My Bridges</td>\n",
       "      <td>/a/abba/burning+my+bridges_20003011.html</td>\n",
       "      <td>Well, you hoot and you holler and you make me ...</td>\n",
       "    </tr>\n",
       "    <tr>\n",
       "      <th>6</th>\n",
       "      <td>ABBA</td>\n",
       "      <td>Cassandra</td>\n",
       "      <td>/a/abba/cassandra_20002811.html</td>\n",
       "      <td>Down in the street they're all singing and sho...</td>\n",
       "    </tr>\n",
       "    <tr>\n",
       "      <th>7</th>\n",
       "      <td>ABBA</td>\n",
       "      <td>Chiquitita</td>\n",
       "      <td>/a/abba/chiquitita_20002978.html</td>\n",
       "      <td>Chiquitita, tell me what's wrong  \\r\\nYou're e...</td>\n",
       "    </tr>\n",
       "    <tr>\n",
       "      <th>8</th>\n",
       "      <td>ABBA</td>\n",
       "      <td>Crazy World</td>\n",
       "      <td>/a/abba/crazy+world_20003013.html</td>\n",
       "      <td>I was out with the morning sun  \\r\\nCouldn't s...</td>\n",
       "    </tr>\n",
       "    <tr>\n",
       "      <th>9</th>\n",
       "      <td>ABBA</td>\n",
       "      <td>Crying Over You</td>\n",
       "      <td>/a/abba/crying+over+you_20177611.html</td>\n",
       "      <td>I'm waitin' for you baby  \\r\\nI'm sitting all ...</td>\n",
       "    </tr>\n",
       "  </tbody>\n",
       "</table>\n",
       "</div>"
      ],
      "text/plain": [
       "  artist                   song                                        link  \\\n",
       "0   ABBA  Ahe's My Kind Of Girl  /a/abba/ahes+my+kind+of+girl_20598417.html   \n",
       "1   ABBA       Andante, Andante       /a/abba/andante+andante_20002708.html   \n",
       "2   ABBA         As Good As New        /a/abba/as+good+as+new_20003033.html   \n",
       "3   ABBA                   Bang                  /a/abba/bang_20598415.html   \n",
       "4   ABBA       Bang-A-Boomerang      /a/abba/bang+a+boomerang_20002668.html   \n",
       "5   ABBA     Burning My Bridges    /a/abba/burning+my+bridges_20003011.html   \n",
       "6   ABBA              Cassandra             /a/abba/cassandra_20002811.html   \n",
       "7   ABBA             Chiquitita            /a/abba/chiquitita_20002978.html   \n",
       "8   ABBA            Crazy World           /a/abba/crazy+world_20003013.html   \n",
       "9   ABBA        Crying Over You       /a/abba/crying+over+you_20177611.html   \n",
       "\n",
       "                                                text  \n",
       "0  Look at her face, it's a wonderful face  \\r\\nA...  \n",
       "1  Take it easy with me, please  \\r\\nTouch me gen...  \n",
       "2  I'll never know why I had to go  \\r\\nWhy I had...  \n",
       "3  Making somebody happy is a question of give an...  \n",
       "4  Making somebody happy is a question of give an...  \n",
       "5  Well, you hoot and you holler and you make me ...  \n",
       "6  Down in the street they're all singing and sho...  \n",
       "7  Chiquitita, tell me what's wrong  \\r\\nYou're e...  \n",
       "8  I was out with the morning sun  \\r\\nCouldn't s...  \n",
       "9  I'm waitin' for you baby  \\r\\nI'm sitting all ...  "
      ]
     },
     "execution_count": 3,
     "metadata": {},
     "output_type": "execute_result"
    }
   ],
   "source": [
    "df.head(10)"
   ]
  },
  {
   "cell_type": "code",
   "execution_count": 4,
   "id": "35459bb7",
   "metadata": {},
   "outputs": [
    {
     "data": {
      "text/html": [
       "<div>\n",
       "<style scoped>\n",
       "    .dataframe tbody tr th:only-of-type {\n",
       "        vertical-align: middle;\n",
       "    }\n",
       "\n",
       "    .dataframe tbody tr th {\n",
       "        vertical-align: top;\n",
       "    }\n",
       "\n",
       "    .dataframe thead th {\n",
       "        text-align: right;\n",
       "    }\n",
       "</style>\n",
       "<table border=\"1\" class=\"dataframe\">\n",
       "  <thead>\n",
       "    <tr style=\"text-align: right;\">\n",
       "      <th></th>\n",
       "      <th>artist</th>\n",
       "      <th>song</th>\n",
       "      <th>link</th>\n",
       "      <th>text</th>\n",
       "    </tr>\n",
       "  </thead>\n",
       "  <tbody>\n",
       "    <tr>\n",
       "      <th>57640</th>\n",
       "      <td>Zebrahead</td>\n",
       "      <td>The Setup</td>\n",
       "      <td>/z/zebrahead/the+setup_10198494.html</td>\n",
       "      <td>Lie to me  \\r\\nTell me that everything will be...</td>\n",
       "    </tr>\n",
       "    <tr>\n",
       "      <th>57641</th>\n",
       "      <td>Ziggy Marley</td>\n",
       "      <td>Freedom Road</td>\n",
       "      <td>/z/ziggy+marley/freedom+road_20531174.html</td>\n",
       "      <td>That's why I'm marching, yes, I'm marching,  \\...</td>\n",
       "    </tr>\n",
       "    <tr>\n",
       "      <th>57642</th>\n",
       "      <td>Ziggy Marley</td>\n",
       "      <td>Friend</td>\n",
       "      <td>/z/ziggy+marley/friend_20673508.html</td>\n",
       "      <td>[Chorus]  \\r\\nI wanna thank you for the things...</td>\n",
       "    </tr>\n",
       "    <tr>\n",
       "      <th>57643</th>\n",
       "      <td>Ziggy Marley</td>\n",
       "      <td>G7</td>\n",
       "      <td>/z/ziggy+marley/g7_20531173.html</td>\n",
       "      <td>Seven richest countries in the world  \\r\\nThem...</td>\n",
       "    </tr>\n",
       "    <tr>\n",
       "      <th>57644</th>\n",
       "      <td>Ziggy Marley</td>\n",
       "      <td>Generation</td>\n",
       "      <td>/z/ziggy+marley/generation_20531171.html</td>\n",
       "      <td>Many generation have passed away  \\r\\nFighting...</td>\n",
       "    </tr>\n",
       "    <tr>\n",
       "      <th>57645</th>\n",
       "      <td>Ziggy Marley</td>\n",
       "      <td>Good Old Days</td>\n",
       "      <td>/z/ziggy+marley/good+old+days_10198588.html</td>\n",
       "      <td>Irie days come on play  \\r\\nLet the angels fly...</td>\n",
       "    </tr>\n",
       "    <tr>\n",
       "      <th>57646</th>\n",
       "      <td>Ziggy Marley</td>\n",
       "      <td>Hand To Mouth</td>\n",
       "      <td>/z/ziggy+marley/hand+to+mouth_20531167.html</td>\n",
       "      <td>Power to the workers  \\r\\nMore power  \\r\\nPowe...</td>\n",
       "    </tr>\n",
       "    <tr>\n",
       "      <th>57647</th>\n",
       "      <td>Zwan</td>\n",
       "      <td>Come With Me</td>\n",
       "      <td>/z/zwan/come+with+me_20148981.html</td>\n",
       "      <td>all you need  \\r\\nis something i'll believe  \\...</td>\n",
       "    </tr>\n",
       "    <tr>\n",
       "      <th>57648</th>\n",
       "      <td>Zwan</td>\n",
       "      <td>Desire</td>\n",
       "      <td>/z/zwan/desire_20148986.html</td>\n",
       "      <td>northern star  \\r\\nam i frightened  \\r\\nwhere ...</td>\n",
       "    </tr>\n",
       "    <tr>\n",
       "      <th>57649</th>\n",
       "      <td>Zwan</td>\n",
       "      <td>Heartsong</td>\n",
       "      <td>/z/zwan/heartsong_20148991.html</td>\n",
       "      <td>come in  \\r\\nmake yourself at home  \\r\\ni'm a ...</td>\n",
       "    </tr>\n",
       "  </tbody>\n",
       "</table>\n",
       "</div>"
      ],
      "text/plain": [
       "             artist           song  \\\n",
       "57640     Zebrahead      The Setup   \n",
       "57641  Ziggy Marley   Freedom Road   \n",
       "57642  Ziggy Marley         Friend   \n",
       "57643  Ziggy Marley             G7   \n",
       "57644  Ziggy Marley     Generation   \n",
       "57645  Ziggy Marley  Good Old Days   \n",
       "57646  Ziggy Marley  Hand To Mouth   \n",
       "57647          Zwan   Come With Me   \n",
       "57648          Zwan         Desire   \n",
       "57649          Zwan      Heartsong   \n",
       "\n",
       "                                              link  \\\n",
       "57640         /z/zebrahead/the+setup_10198494.html   \n",
       "57641   /z/ziggy+marley/freedom+road_20531174.html   \n",
       "57642         /z/ziggy+marley/friend_20673508.html   \n",
       "57643             /z/ziggy+marley/g7_20531173.html   \n",
       "57644     /z/ziggy+marley/generation_20531171.html   \n",
       "57645  /z/ziggy+marley/good+old+days_10198588.html   \n",
       "57646  /z/ziggy+marley/hand+to+mouth_20531167.html   \n",
       "57647           /z/zwan/come+with+me_20148981.html   \n",
       "57648                 /z/zwan/desire_20148986.html   \n",
       "57649              /z/zwan/heartsong_20148991.html   \n",
       "\n",
       "                                                    text  \n",
       "57640  Lie to me  \\r\\nTell me that everything will be...  \n",
       "57641  That's why I'm marching, yes, I'm marching,  \\...  \n",
       "57642  [Chorus]  \\r\\nI wanna thank you for the things...  \n",
       "57643  Seven richest countries in the world  \\r\\nThem...  \n",
       "57644  Many generation have passed away  \\r\\nFighting...  \n",
       "57645  Irie days come on play  \\r\\nLet the angels fly...  \n",
       "57646  Power to the workers  \\r\\nMore power  \\r\\nPowe...  \n",
       "57647  all you need  \\r\\nis something i'll believe  \\...  \n",
       "57648  northern star  \\r\\nam i frightened  \\r\\nwhere ...  \n",
       "57649  come in  \\r\\nmake yourself at home  \\r\\ni'm a ...  "
      ]
     },
     "execution_count": 4,
     "metadata": {},
     "output_type": "execute_result"
    }
   ],
   "source": [
    "df.tail(10)"
   ]
  },
  {
   "cell_type": "code",
   "execution_count": 5,
   "id": "a9776500",
   "metadata": {},
   "outputs": [
    {
     "data": {
      "text/plain": [
       "(57650, 4)"
      ]
     },
     "execution_count": 5,
     "metadata": {},
     "output_type": "execute_result"
    }
   ],
   "source": [
    "df.shape"
   ]
  },
  {
   "cell_type": "code",
   "execution_count": 6,
   "id": "61622e6d",
   "metadata": {},
   "outputs": [
    {
     "data": {
      "text/html": [
       "<div>\n",
       "<style scoped>\n",
       "    .dataframe tbody tr th:only-of-type {\n",
       "        vertical-align: middle;\n",
       "    }\n",
       "\n",
       "    .dataframe tbody tr th {\n",
       "        vertical-align: top;\n",
       "    }\n",
       "\n",
       "    .dataframe thead th {\n",
       "        text-align: right;\n",
       "    }\n",
       "</style>\n",
       "<table border=\"1\" class=\"dataframe\">\n",
       "  <thead>\n",
       "    <tr style=\"text-align: right;\">\n",
       "      <th></th>\n",
       "      <th>artist</th>\n",
       "      <th>song</th>\n",
       "      <th>link</th>\n",
       "      <th>text</th>\n",
       "    </tr>\n",
       "  </thead>\n",
       "  <tbody>\n",
       "    <tr>\n",
       "      <th>0</th>\n",
       "      <td>False</td>\n",
       "      <td>False</td>\n",
       "      <td>False</td>\n",
       "      <td>False</td>\n",
       "    </tr>\n",
       "    <tr>\n",
       "      <th>1</th>\n",
       "      <td>False</td>\n",
       "      <td>False</td>\n",
       "      <td>False</td>\n",
       "      <td>False</td>\n",
       "    </tr>\n",
       "    <tr>\n",
       "      <th>2</th>\n",
       "      <td>False</td>\n",
       "      <td>False</td>\n",
       "      <td>False</td>\n",
       "      <td>False</td>\n",
       "    </tr>\n",
       "    <tr>\n",
       "      <th>3</th>\n",
       "      <td>False</td>\n",
       "      <td>False</td>\n",
       "      <td>False</td>\n",
       "      <td>False</td>\n",
       "    </tr>\n",
       "    <tr>\n",
       "      <th>4</th>\n",
       "      <td>False</td>\n",
       "      <td>False</td>\n",
       "      <td>False</td>\n",
       "      <td>False</td>\n",
       "    </tr>\n",
       "    <tr>\n",
       "      <th>...</th>\n",
       "      <td>...</td>\n",
       "      <td>...</td>\n",
       "      <td>...</td>\n",
       "      <td>...</td>\n",
       "    </tr>\n",
       "    <tr>\n",
       "      <th>57645</th>\n",
       "      <td>False</td>\n",
       "      <td>False</td>\n",
       "      <td>False</td>\n",
       "      <td>False</td>\n",
       "    </tr>\n",
       "    <tr>\n",
       "      <th>57646</th>\n",
       "      <td>False</td>\n",
       "      <td>False</td>\n",
       "      <td>False</td>\n",
       "      <td>False</td>\n",
       "    </tr>\n",
       "    <tr>\n",
       "      <th>57647</th>\n",
       "      <td>False</td>\n",
       "      <td>False</td>\n",
       "      <td>False</td>\n",
       "      <td>False</td>\n",
       "    </tr>\n",
       "    <tr>\n",
       "      <th>57648</th>\n",
       "      <td>False</td>\n",
       "      <td>False</td>\n",
       "      <td>False</td>\n",
       "      <td>False</td>\n",
       "    </tr>\n",
       "    <tr>\n",
       "      <th>57649</th>\n",
       "      <td>False</td>\n",
       "      <td>False</td>\n",
       "      <td>False</td>\n",
       "      <td>False</td>\n",
       "    </tr>\n",
       "  </tbody>\n",
       "</table>\n",
       "<p>57650 rows × 4 columns</p>\n",
       "</div>"
      ],
      "text/plain": [
       "       artist   song   link   text\n",
       "0       False  False  False  False\n",
       "1       False  False  False  False\n",
       "2       False  False  False  False\n",
       "3       False  False  False  False\n",
       "4       False  False  False  False\n",
       "...       ...    ...    ...    ...\n",
       "57645   False  False  False  False\n",
       "57646   False  False  False  False\n",
       "57647   False  False  False  False\n",
       "57648   False  False  False  False\n",
       "57649   False  False  False  False\n",
       "\n",
       "[57650 rows x 4 columns]"
      ]
     },
     "execution_count": 6,
     "metadata": {},
     "output_type": "execute_result"
    }
   ],
   "source": [
    "df.isnull()"
   ]
  },
  {
   "cell_type": "code",
   "execution_count": 7,
   "id": "8e396ccd",
   "metadata": {},
   "outputs": [
    {
     "data": {
      "text/plain": [
       "artist    0\n",
       "song      0\n",
       "link      0\n",
       "text      0\n",
       "dtype: int64"
      ]
     },
     "execution_count": 7,
     "metadata": {},
     "output_type": "execute_result"
    }
   ],
   "source": [
    "df.isnull().sum()"
   ]
  },
  {
   "cell_type": "code",
   "execution_count": 8,
   "id": "de290182",
   "metadata": {},
   "outputs": [],
   "source": [
    "df = df.sample(5000).drop('link', axis = 1).reset_index(drop=True)"
   ]
  },
  {
   "cell_type": "code",
   "execution_count": 9,
   "id": "665d3bbf",
   "metadata": {},
   "outputs": [
    {
     "data": {
      "text/html": [
       "<div>\n",
       "<style scoped>\n",
       "    .dataframe tbody tr th:only-of-type {\n",
       "        vertical-align: middle;\n",
       "    }\n",
       "\n",
       "    .dataframe tbody tr th {\n",
       "        vertical-align: top;\n",
       "    }\n",
       "\n",
       "    .dataframe thead th {\n",
       "        text-align: right;\n",
       "    }\n",
       "</style>\n",
       "<table border=\"1\" class=\"dataframe\">\n",
       "  <thead>\n",
       "    <tr style=\"text-align: right;\">\n",
       "      <th></th>\n",
       "      <th>artist</th>\n",
       "      <th>song</th>\n",
       "      <th>text</th>\n",
       "    </tr>\n",
       "  </thead>\n",
       "  <tbody>\n",
       "    <tr>\n",
       "      <th>0</th>\n",
       "      <td>Louis Jordan</td>\n",
       "      <td>G.I. Jive</td>\n",
       "      <td>This is the G. I. Jive  \\r\\nMan alive  \\r\\nIt ...</td>\n",
       "    </tr>\n",
       "    <tr>\n",
       "      <th>1</th>\n",
       "      <td>INXS</td>\n",
       "      <td>Suicide Blonde</td>\n",
       "      <td>Don't you know what you're doing  \\r\\nYou've g...</td>\n",
       "    </tr>\n",
       "    <tr>\n",
       "      <th>2</th>\n",
       "      <td>Avril Lavigne</td>\n",
       "      <td>Bad Reputation</td>\n",
       "      <td>I don't give a damn 'bout my reputation  \\r\\nY...</td>\n",
       "    </tr>\n",
       "    <tr>\n",
       "      <th>3</th>\n",
       "      <td>Flo-Rida</td>\n",
       "      <td>Whistle</td>\n",
       "      <td>Can you blow my whistle baby, whistle baby  \\r...</td>\n",
       "    </tr>\n",
       "    <tr>\n",
       "      <th>4</th>\n",
       "      <td>Pet Shop Boys</td>\n",
       "      <td>Miserablism</td>\n",
       "      <td>It seems to me there's something serious begin...</td>\n",
       "    </tr>\n",
       "    <tr>\n",
       "      <th>5</th>\n",
       "      <td>Wanda Jackson</td>\n",
       "      <td>Here We Are Again</td>\n",
       "      <td>Just when I think I've forgotten you and our c...</td>\n",
       "    </tr>\n",
       "    <tr>\n",
       "      <th>6</th>\n",
       "      <td>Bob Dylan</td>\n",
       "      <td>He Was A Friend Of Mine</td>\n",
       "      <td>He was a friend of mine  \\r\\nHe was a friend o...</td>\n",
       "    </tr>\n",
       "    <tr>\n",
       "      <th>7</th>\n",
       "      <td>Ella Fitzgerald</td>\n",
       "      <td>A Foggy Day</td>\n",
       "      <td>I was a stranger in the city  \\r\\nOut of town ...</td>\n",
       "    </tr>\n",
       "    <tr>\n",
       "      <th>8</th>\n",
       "      <td>Carly Simon</td>\n",
       "      <td>Rolling Down The Hills</td>\n",
       "      <td>People who have bad times  \\r\\nWrite hard luck...</td>\n",
       "    </tr>\n",
       "    <tr>\n",
       "      <th>9</th>\n",
       "      <td>Michael Bolton</td>\n",
       "      <td>The Courage In Your Eyes</td>\n",
       "      <td>Nobody ever warned you  \\r\\nNobody could have ...</td>\n",
       "    </tr>\n",
       "  </tbody>\n",
       "</table>\n",
       "</div>"
      ],
      "text/plain": [
       "            artist                      song  \\\n",
       "0     Louis Jordan                 G.I. Jive   \n",
       "1             INXS            Suicide Blonde   \n",
       "2    Avril Lavigne            Bad Reputation   \n",
       "3         Flo-Rida                   Whistle   \n",
       "4    Pet Shop Boys               Miserablism   \n",
       "5    Wanda Jackson         Here We Are Again   \n",
       "6        Bob Dylan   He Was A Friend Of Mine   \n",
       "7  Ella Fitzgerald               A Foggy Day   \n",
       "8      Carly Simon    Rolling Down The Hills   \n",
       "9   Michael Bolton  The Courage In Your Eyes   \n",
       "\n",
       "                                                text  \n",
       "0  This is the G. I. Jive  \\r\\nMan alive  \\r\\nIt ...  \n",
       "1  Don't you know what you're doing  \\r\\nYou've g...  \n",
       "2  I don't give a damn 'bout my reputation  \\r\\nY...  \n",
       "3  Can you blow my whistle baby, whistle baby  \\r...  \n",
       "4  It seems to me there's something serious begin...  \n",
       "5  Just when I think I've forgotten you and our c...  \n",
       "6  He was a friend of mine  \\r\\nHe was a friend o...  \n",
       "7  I was a stranger in the city  \\r\\nOut of town ...  \n",
       "8  People who have bad times  \\r\\nWrite hard luck...  \n",
       "9  Nobody ever warned you  \\r\\nNobody could have ...  "
      ]
     },
     "execution_count": 9,
     "metadata": {},
     "output_type": "execute_result"
    }
   ],
   "source": [
    "df.head(10)"
   ]
  },
  {
   "cell_type": "code",
   "execution_count": 10,
   "id": "00251682",
   "metadata": {},
   "outputs": [
    {
     "data": {
      "text/plain": [
       "'This is the G. I. Jive  \\r\\nMan alive  \\r\\nIt starts with the bugler blowin\\' reveille over your bed when you arrive  \\r\\nJack, that\\'s the G. I. Jive  \\r\\nRoodley-toot  \\r\\nJump in your suit  \\r\\nMake a salute  \\r\\nVoot  \\r\\n  \\r\\nAfter you wash and dress  \\r\\nMore or less  \\r\\nYou go get your breakfast in a beautiful little caf?they call \"The Mess\"  \\r\\nJack, when you convalesce  \\r\\nOutta your seat  \\r\\nInto the street  \\r\\nMake with the feet  \\r\\nReet  \\r\\n  \\r\\nIf you\\'re a P-V-T, your duty  \\r\\nIs to salute to L-I-E-you-T  \\r\\nBut if you brush the L-I-E-you-T  \\r\\nThe M-P makes you K-P on the Q-T  \\r\\nThis is the G. I. Jive  \\r\\nMan alive  \\r\\nThey give you a private tank that features a little device called \"fluid\\r\\ndrive\"  \\r\\nJack, after you revive  \\r\\nChuck all your junk  \\r\\nBack in the trunk  \\r\\nFall on your bunk  \\r\\nClunk  \\r\\n  \\r\\nThis is the G. I. Jive  \\r\\nMan alive  \\r\\nThey give you a private tank that features a little device called \"fluid\\r\\ndrive\"  \\r\\nJack, if you still survive  \\r\\nChuck all your junk  \\r\\nBack in the trunk  \\r\\nFall on your bunk  \\r\\nClunk  \\r\\n  \\r\\nSoon you\\'re countin\\' jeeps  \\r\\nBut before you count to five  \\r\\nSeems you\\'re right back diggin\\' that G. I. Jive\\r\\n\\r\\n'"
      ]
     },
     "execution_count": 10,
     "metadata": {},
     "output_type": "execute_result"
    }
   ],
   "source": [
    "df['text'][0]"
   ]
  },
  {
   "cell_type": "code",
   "execution_count": 11,
   "id": "c4363d2a",
   "metadata": {},
   "outputs": [
    {
     "data": {
      "text/html": [
       "<div>\n",
       "<style scoped>\n",
       "    .dataframe tbody tr th:only-of-type {\n",
       "        vertical-align: middle;\n",
       "    }\n",
       "\n",
       "    .dataframe tbody tr th {\n",
       "        vertical-align: top;\n",
       "    }\n",
       "\n",
       "    .dataframe thead th {\n",
       "        text-align: right;\n",
       "    }\n",
       "</style>\n",
       "<table border=\"1\" class=\"dataframe\">\n",
       "  <thead>\n",
       "    <tr style=\"text-align: right;\">\n",
       "      <th></th>\n",
       "      <th>artist</th>\n",
       "      <th>song</th>\n",
       "      <th>text</th>\n",
       "    </tr>\n",
       "  </thead>\n",
       "  <tbody>\n",
       "    <tr>\n",
       "      <th>0</th>\n",
       "      <td>Louis Jordan</td>\n",
       "      <td>G.I. Jive</td>\n",
       "      <td>This is the G. I. Jive  \\r\\nMan alive  \\r\\nIt ...</td>\n",
       "    </tr>\n",
       "    <tr>\n",
       "      <th>1</th>\n",
       "      <td>INXS</td>\n",
       "      <td>Suicide Blonde</td>\n",
       "      <td>Don't you know what you're doing  \\r\\nYou've g...</td>\n",
       "    </tr>\n",
       "    <tr>\n",
       "      <th>2</th>\n",
       "      <td>Avril Lavigne</td>\n",
       "      <td>Bad Reputation</td>\n",
       "      <td>I don't give a damn 'bout my reputation  \\r\\nY...</td>\n",
       "    </tr>\n",
       "    <tr>\n",
       "      <th>3</th>\n",
       "      <td>Flo-Rida</td>\n",
       "      <td>Whistle</td>\n",
       "      <td>Can you blow my whistle baby, whistle baby  \\r...</td>\n",
       "    </tr>\n",
       "    <tr>\n",
       "      <th>4</th>\n",
       "      <td>Pet Shop Boys</td>\n",
       "      <td>Miserablism</td>\n",
       "      <td>It seems to me there's something serious begin...</td>\n",
       "    </tr>\n",
       "    <tr>\n",
       "      <th>5</th>\n",
       "      <td>Wanda Jackson</td>\n",
       "      <td>Here We Are Again</td>\n",
       "      <td>Just when I think I've forgotten you and our c...</td>\n",
       "    </tr>\n",
       "    <tr>\n",
       "      <th>6</th>\n",
       "      <td>Bob Dylan</td>\n",
       "      <td>He Was A Friend Of Mine</td>\n",
       "      <td>He was a friend of mine  \\r\\nHe was a friend o...</td>\n",
       "    </tr>\n",
       "    <tr>\n",
       "      <th>7</th>\n",
       "      <td>Ella Fitzgerald</td>\n",
       "      <td>A Foggy Day</td>\n",
       "      <td>I was a stranger in the city  \\r\\nOut of town ...</td>\n",
       "    </tr>\n",
       "    <tr>\n",
       "      <th>8</th>\n",
       "      <td>Carly Simon</td>\n",
       "      <td>Rolling Down The Hills</td>\n",
       "      <td>People who have bad times  \\r\\nWrite hard luck...</td>\n",
       "    </tr>\n",
       "    <tr>\n",
       "      <th>9</th>\n",
       "      <td>Michael Bolton</td>\n",
       "      <td>The Courage In Your Eyes</td>\n",
       "      <td>Nobody ever warned you  \\r\\nNobody could have ...</td>\n",
       "    </tr>\n",
       "  </tbody>\n",
       "</table>\n",
       "</div>"
      ],
      "text/plain": [
       "            artist                      song  \\\n",
       "0     Louis Jordan                 G.I. Jive   \n",
       "1             INXS            Suicide Blonde   \n",
       "2    Avril Lavigne            Bad Reputation   \n",
       "3         Flo-Rida                   Whistle   \n",
       "4    Pet Shop Boys               Miserablism   \n",
       "5    Wanda Jackson         Here We Are Again   \n",
       "6        Bob Dylan   He Was A Friend Of Mine   \n",
       "7  Ella Fitzgerald               A Foggy Day   \n",
       "8      Carly Simon    Rolling Down The Hills   \n",
       "9   Michael Bolton  The Courage In Your Eyes   \n",
       "\n",
       "                                                text  \n",
       "0  This is the G. I. Jive  \\r\\nMan alive  \\r\\nIt ...  \n",
       "1  Don't you know what you're doing  \\r\\nYou've g...  \n",
       "2  I don't give a damn 'bout my reputation  \\r\\nY...  \n",
       "3  Can you blow my whistle baby, whistle baby  \\r...  \n",
       "4  It seems to me there's something serious begin...  \n",
       "5  Just when I think I've forgotten you and our c...  \n",
       "6  He was a friend of mine  \\r\\nHe was a friend o...  \n",
       "7  I was a stranger in the city  \\r\\nOut of town ...  \n",
       "8  People who have bad times  \\r\\nWrite hard luck...  \n",
       "9  Nobody ever warned you  \\r\\nNobody could have ...  "
      ]
     },
     "execution_count": 11,
     "metadata": {},
     "output_type": "execute_result"
    }
   ],
   "source": [
    "df.head(10)"
   ]
  },
  {
   "cell_type": "code",
   "execution_count": 12,
   "id": "9b0fb081",
   "metadata": {},
   "outputs": [
    {
     "data": {
      "text/plain": [
       "(5000, 3)"
      ]
     },
     "execution_count": 12,
     "metadata": {},
     "output_type": "execute_result"
    }
   ],
   "source": [
    "df.shape"
   ]
  },
  {
   "cell_type": "code",
   "execution_count": 13,
   "id": "dd6d2097",
   "metadata": {},
   "outputs": [],
   "source": [
    "df['text'] = df['text'].str.lower().replace(r'^\\w\\s', ' ').replace(r'\\n', ' ', regex = True)"
   ]
  },
  {
   "cell_type": "code",
   "execution_count": 14,
   "id": "1e5e52aa",
   "metadata": {},
   "outputs": [
    {
     "data": {
      "text/html": [
       "<div>\n",
       "<style scoped>\n",
       "    .dataframe tbody tr th:only-of-type {\n",
       "        vertical-align: middle;\n",
       "    }\n",
       "\n",
       "    .dataframe tbody tr th {\n",
       "        vertical-align: top;\n",
       "    }\n",
       "\n",
       "    .dataframe thead th {\n",
       "        text-align: right;\n",
       "    }\n",
       "</style>\n",
       "<table border=\"1\" class=\"dataframe\">\n",
       "  <thead>\n",
       "    <tr style=\"text-align: right;\">\n",
       "      <th></th>\n",
       "      <th>artist</th>\n",
       "      <th>song</th>\n",
       "      <th>text</th>\n",
       "    </tr>\n",
       "  </thead>\n",
       "  <tbody>\n",
       "    <tr>\n",
       "      <th>4990</th>\n",
       "      <td>Rolling Stones</td>\n",
       "      <td>Already Over Me</td>\n",
       "      <td>as you poured out the drinks for me  \\r i felt...</td>\n",
       "    </tr>\n",
       "    <tr>\n",
       "      <th>4991</th>\n",
       "      <td>Incubus</td>\n",
       "      <td>Agoraphobia</td>\n",
       "      <td>two people touching lips  \\r hands on each oth...</td>\n",
       "    </tr>\n",
       "    <tr>\n",
       "      <th>4992</th>\n",
       "      <td>Kirk Franklin</td>\n",
       "      <td>Gonna Be A Lovely Day</td>\n",
       "      <td>when i wake up in the morning love  \\r and my ...</td>\n",
       "    </tr>\n",
       "    <tr>\n",
       "      <th>4993</th>\n",
       "      <td>Overkill</td>\n",
       "      <td>Good Night</td>\n",
       "      <td>hey man, what's it gonna be?  \\r indecision is...</td>\n",
       "    </tr>\n",
       "    <tr>\n",
       "      <th>4994</th>\n",
       "      <td>Michael W. Smith</td>\n",
       "      <td>Come See</td>\n",
       "      <td>come see, come see with spirit eyes  \\r come s...</td>\n",
       "    </tr>\n",
       "    <tr>\n",
       "      <th>4995</th>\n",
       "      <td>Hanson</td>\n",
       "      <td>Lost Without Each Other</td>\n",
       "      <td>i ran into your best friend today  \\r twelve n...</td>\n",
       "    </tr>\n",
       "    <tr>\n",
       "      <th>4996</th>\n",
       "      <td>Radiohead</td>\n",
       "      <td>Faithless Wonder Boy</td>\n",
       "      <td>i've had these jeans since i was born  \\r and ...</td>\n",
       "    </tr>\n",
       "    <tr>\n",
       "      <th>4997</th>\n",
       "      <td>Squeeze</td>\n",
       "      <td>Rose I Said</td>\n",
       "      <td>yes i cried the moment that her hand slapped m...</td>\n",
       "    </tr>\n",
       "    <tr>\n",
       "      <th>4998</th>\n",
       "      <td>Velvet Underground</td>\n",
       "      <td>Who Loves The Sun</td>\n",
       "      <td>who loves the sun  \\r who cares that it makes ...</td>\n",
       "    </tr>\n",
       "    <tr>\n",
       "      <th>4999</th>\n",
       "      <td>Faith No More</td>\n",
       "      <td>The Crow That Wheeps</td>\n",
       "      <td>i jerk every night, after midnight,  \\r it tak...</td>\n",
       "    </tr>\n",
       "  </tbody>\n",
       "</table>\n",
       "</div>"
      ],
      "text/plain": [
       "                  artist                     song  \\\n",
       "4990      Rolling Stones          Already Over Me   \n",
       "4991             Incubus              Agoraphobia   \n",
       "4992       Kirk Franklin    Gonna Be A Lovely Day   \n",
       "4993            Overkill               Good Night   \n",
       "4994    Michael W. Smith                 Come See   \n",
       "4995              Hanson  Lost Without Each Other   \n",
       "4996           Radiohead     Faithless Wonder Boy   \n",
       "4997             Squeeze              Rose I Said   \n",
       "4998  Velvet Underground        Who Loves The Sun   \n",
       "4999       Faith No More     The Crow That Wheeps   \n",
       "\n",
       "                                                   text  \n",
       "4990  as you poured out the drinks for me  \\r i felt...  \n",
       "4991  two people touching lips  \\r hands on each oth...  \n",
       "4992  when i wake up in the morning love  \\r and my ...  \n",
       "4993  hey man, what's it gonna be?  \\r indecision is...  \n",
       "4994  come see, come see with spirit eyes  \\r come s...  \n",
       "4995  i ran into your best friend today  \\r twelve n...  \n",
       "4996  i've had these jeans since i was born  \\r and ...  \n",
       "4997  yes i cried the moment that her hand slapped m...  \n",
       "4998  who loves the sun  \\r who cares that it makes ...  \n",
       "4999  i jerk every night, after midnight,  \\r it tak...  "
      ]
     },
     "execution_count": 14,
     "metadata": {},
     "output_type": "execute_result"
    }
   ],
   "source": [
    "df.tail(10)"
   ]
  },
  {
   "cell_type": "code",
   "execution_count": 15,
   "id": "a51f20d3",
   "metadata": {},
   "outputs": [],
   "source": [
    "import nltk\n",
    "from nltk.stem.porter import PorterStemmer"
   ]
  },
  {
   "cell_type": "code",
   "execution_count": 16,
   "id": "0daf96a0",
   "metadata": {},
   "outputs": [],
   "source": [
    "stemmer = PorterStemmer()"
   ]
  },
  {
   "cell_type": "code",
   "execution_count": 17,
   "id": "c4344b3a",
   "metadata": {},
   "outputs": [],
   "source": [
    "def token(txt):\n",
    "    token = nltk.word_tokenize(txt)\n",
    "    a =[stemmer.stem(w) for w in token]\n",
    "    return \" \".join(a)"
   ]
  },
  {
   "cell_type": "code",
   "execution_count": 18,
   "id": "6f013995",
   "metadata": {},
   "outputs": [
    {
     "data": {
      "text/plain": [
       "'you are beauti , beauti'"
      ]
     },
     "execution_count": 18,
     "metadata": {},
     "output_type": "execute_result"
    }
   ],
   "source": [
    "token(\"you are beautiful, beauty\") "
   ]
  },
  {
   "cell_type": "code",
   "execution_count": 19,
   "id": "c96a7151",
   "metadata": {},
   "outputs": [
    {
     "data": {
      "text/plain": [
       "0       thi is the g. i. jive man aliv it start with t...\n",
       "1       do n't you know what you 're do you 've got a ...\n",
       "2       i do n't give a damn 'bout my reput you 're li...\n",
       "3       can you blow my whistl babi , whistl babi let ...\n",
       "4       it seem to me there 's someth seriou begin a n...\n",
       "                              ...                        \n",
       "4995    i ran into your best friend today twelv night ...\n",
       "4996    i 've had these jean sinc i wa born and now th...\n",
       "4997    ye i cri the moment that her hand slap my face...\n",
       "4998    who love the sun who care that it make plant g...\n",
       "4999    i jerk everi night , after midnight , it take ...\n",
       "Name: text, Length: 5000, dtype: object"
      ]
     },
     "execution_count": 19,
     "metadata": {},
     "output_type": "execute_result"
    }
   ],
   "source": [
    "df['text'].apply(lambda x: token(x))"
   ]
  },
  {
   "cell_type": "code",
   "execution_count": 20,
   "id": "7dc320e8",
   "metadata": {},
   "outputs": [],
   "source": [
    "from sklearn.feature_extraction.text import TfidfVectorizer\n",
    "from sklearn.metrics.pairwise import cosine_similarity"
   ]
  },
  {
   "cell_type": "code",
   "execution_count": 21,
   "id": "a7ede875",
   "metadata": {},
   "outputs": [],
   "source": [
    "tfid = TfidfVectorizer(analyzer='word', stop_words='english')"
   ]
  },
  {
   "cell_type": "code",
   "execution_count": 22,
   "id": "39d58bc6",
   "metadata": {},
   "outputs": [
    {
     "data": {
      "text/plain": [
       "<5000x23468 sparse matrix of type '<class 'numpy.float64'>'\n",
       "\twith 268535 stored elements in Compressed Sparse Row format>"
      ]
     },
     "execution_count": 22,
     "metadata": {},
     "output_type": "execute_result"
    }
   ],
   "source": [
    "matrix = tfid.fit_transform(df['text'])\n",
    "matrix"
   ]
  },
  {
   "cell_type": "code",
   "execution_count": 23,
   "id": "7859141d",
   "metadata": {},
   "outputs": [],
   "source": [
    "similer = cosine_similarity(matrix)"
   ]
  },
  {
   "cell_type": "code",
   "execution_count": 24,
   "id": "067d130d",
   "metadata": {},
   "outputs": [
    {
     "data": {
      "text/plain": [
       "array([1.        , 0.0038651 , 0.        , ..., 0.02181984, 0.00258644,\n",
       "       0.00559546])"
      ]
     },
     "execution_count": 24,
     "metadata": {},
     "output_type": "execute_result"
    }
   ],
   "source": [
    "similer[0]"
   ]
  },
  {
   "cell_type": "code",
   "execution_count": 25,
   "id": "2407b421",
   "metadata": {},
   "outputs": [],
   "source": [
    "#df[df['song']=='Give Me A Reason'].index[0]"
   ]
  },
  {
   "cell_type": "markdown",
   "id": "cfa8158d",
   "metadata": {},
   "source": [
    "Recommander Function"
   ]
  },
  {
   "cell_type": "code",
   "execution_count": 26,
   "id": "010bdfcf",
   "metadata": {},
   "outputs": [],
   "source": [
    "def recommander(song_name):\n",
    "    idx = df[df['song'] == song_name].index[0]\n",
    "    distance = sorted(list(enumerate(similer[idx])), reverse = True, key = lambda x: x[1])\n",
    "    song = []\n",
    "    for s_id in distance[1:21]:\n",
    "        song.append(df.iloc[s_id[0]].song)\n",
    "    return song"
   ]
  },
  {
   "cell_type": "code",
   "execution_count": 27,
   "id": "11cb189e",
   "metadata": {},
   "outputs": [],
   "source": [
    "#recommander(\"Give Me A Reason\")"
   ]
  },
  {
   "cell_type": "code",
   "execution_count": 28,
   "id": "ed601321",
   "metadata": {},
   "outputs": [],
   "source": [
    "import pickle"
   ]
  },
  {
   "cell_type": "code",
   "execution_count": 29,
   "id": "c952bcfd",
   "metadata": {},
   "outputs": [],
   "source": [
    "pickle.dump(similer, open(\"similarity.pkl\", \"wb\"))"
   ]
  },
  {
   "cell_type": "code",
   "execution_count": 30,
   "id": "33a08007",
   "metadata": {},
   "outputs": [],
   "source": [
    "pickle.dump(df, open(\"df.pkl\", \"wb\"))"
   ]
  },
  {
   "cell_type": "code",
   "execution_count": null,
   "id": "2cfa0a32",
   "metadata": {},
   "outputs": [],
   "source": []
  }
 ],
 "metadata": {
  "kernelspec": {
   "display_name": "Python 3 (ipykernel)",
   "language": "python",
   "name": "python3"
  },
  "language_info": {
   "codemirror_mode": {
    "name": "ipython",
    "version": 3
   },
   "file_extension": ".py",
   "mimetype": "text/x-python",
   "name": "python",
   "nbconvert_exporter": "python",
   "pygments_lexer": "ipython3",
   "version": "3.11.8"
  }
 },
 "nbformat": 4,
 "nbformat_minor": 5
}
