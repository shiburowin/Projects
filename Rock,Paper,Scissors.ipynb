{
  "nbformat": 4,
  "nbformat_minor": 0,
  "metadata": {
    "colab": {
      "provenance": [],
      "authorship_tag": "ABX9TyPVsd4MnBtKwXPeI7I2qvDu",
      "include_colab_link": true
    },
    "kernelspec": {
      "name": "python3",
      "display_name": "Python 3"
    },
    "language_info": {
      "name": "python"
    }
  },
  "cells": [
    {
      "cell_type": "markdown",
      "metadata": {
        "id": "view-in-github",
        "colab_type": "text"
      },
      "source": [
        "<a href=\"https://colab.research.google.com/github/shiburowin/Projects/blob/main/Rock%2CPaper%2CScissors.ipynb\" target=\"_parent\"><img src=\"https://colab.research.google.com/assets/colab-badge.svg\" alt=\"Open In Colab\"/></a>"
      ]
    },
    {
      "cell_type": "markdown",
      "source": [
        "**Rock,Paper,scissors game**"
      ],
      "metadata": {
        "id": "o4uwWcr3k5p1"
      }
    },
    {
      "cell_type": "code",
      "execution_count": 12,
      "metadata": {
        "id": "jGF86Y6CbN_Z"
      },
      "outputs": [],
      "source": [
        "#import modules\n",
        "\n",
        "import random"
      ]
    },
    {
      "cell_type": "code",
      "source": [
        "user_wins = 0\n",
        "computer_wins = 0\n",
        "options = ['rock', 'paper', 'scissors']"
      ],
      "metadata": {
        "id": "c2TcNbAJbRMG"
      },
      "execution_count": 13,
      "outputs": []
    },
    {
      "cell_type": "code",
      "source": [
        "while True:\n",
        "  user_input = input(\"Type Rock , Paper, scissors or Q to Quit : \").lower()\n",
        "  if user_input == \"q\":\n",
        "    break\n",
        "\n",
        "  if user_input not in options:\n",
        "    continue\n",
        "\n",
        "  random_number = random.randint(0,2)\n",
        "  computer_picks = options[random_number]\n",
        "  print(\"Computer_Picked\",computer_picks + \".\")\n",
        "\n",
        "  if user_input == \"rock\" and computer_picks == \"scissors\":\n",
        "    print(\"You Won\")\n",
        "    user_wins += 1\n",
        "\n",
        "  elif user_input == \"paper\" and computer_picks == \"rock\":\n",
        "    print(\"You Won!\")\n",
        "    user_wins += 1\n",
        "\n",
        "  elif user_input == \"scissors\" and computer_picks == \"paper\":\n",
        "    print(\"You Won!\")\n",
        "    user_wins += 1\n",
        "\n",
        "  elif user_input == \"rock\" and computer_picks == \"rock\":\n",
        "    print(\"Its Draw\")\n",
        "\n",
        "  elif user_input == \"paper\" and computer_picks == \"paper\":\n",
        "    print(\"Its Draw\")\n",
        "\n",
        "  elif user_input == \"scissors\" and computer_picks == \"scissors\":\n",
        "    print(\"Its Draw\")\n",
        "\n",
        "  else:\n",
        "    print(\"OOPS You Lost!\")\n",
        "    computer_wins += 1\n",
        "\n",
        "print(\"You Won\", user_wins, \"times\")\n",
        "print(\"The computer Won\", computer_wins, \"times\")\n",
        "print(\"Good Game\")"
      ],
      "metadata": {
        "colab": {
          "base_uri": "https://localhost:8080/"
        },
        "id": "FpsUChBBbfVF",
        "outputId": "125a01d7-0110-4046-fa2d-0feec0779e54"
      },
      "execution_count": 14,
      "outputs": [
        {
          "output_type": "stream",
          "name": "stdout",
          "text": [
            "Type Rock , Paper, scissors or Q to Quit : rock\n",
            "Computer_Picked rock.\n",
            "Its Draw\n",
            "Type Rock , Paper, scissors or Q to Quit : rock\n",
            "Computer_Picked scissors.\n",
            "You Won\n",
            "Type Rock , Paper, scissors or Q to Quit : q\n",
            "You Won 1 times\n",
            "The computer Won 0 times\n",
            "Good Game\n"
          ]
        }
      ]
    },
    {
      "cell_type": "code",
      "source": [],
      "metadata": {
        "id": "k1DtpGCKimnI"
      },
      "execution_count": null,
      "outputs": []
    }
  ]
}